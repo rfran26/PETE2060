{
 "cells": [
  {
   "cell_type": "code",
   "execution_count": null,
   "metadata": {},
   "outputs": [
    {
     "name": "stdout",
     "output_type": "stream",
     "text": [
      "Robert V. Franklin, PETE Engineer\n",
      "4191 Amberfield Circle\n",
      "Robert V. Franklin, PETE Engineer\r",
      "4191 Amberfield Circle, Norcross Georgia 30092\r\n"
     ]
    }
   ],
   "source": [
    "## Exercise 1: Address\n",
    "\n",
    "print('Robert V. Franklin, PETE Engineer') #This Is Obvious\n",
    "print('4191 Amberfield Circle')\n",
    "\n",
    "print('Robert V. Franklin, PETE Engineer\\r4191 Amberfield Circle, Norcross Georgia 30092\\r')"
   ]
  },
  {
   "cell_type": "code",
   "execution_count": null,
   "metadata": {},
   "outputs": [],
   "source": [
    "# Exercise 2: Hello User \n",
    "\n",
    "input('Type Your Name:')\n",
    "print('Hello', +'name')"
   ]
  },
  {
   "cell_type": "code",
   "execution_count": null,
   "metadata": {},
   "outputs": [],
   "source": []
  },
  {
   "cell_type": "code",
   "execution_count": null,
   "metadata": {},
   "outputs": [],
   "source": [
    "## Exercise 3: Area of Room\n",
    "\n",
    "length = float(input('Length of the room in ft:'))\n",
    "width = float(input('Length of the room in ft:'))\n",
    "\n",
    "\n",
    "area = length * width\n",
    "print('The area of the room is', area, 'square feet.')\n"
   ]
  },
  {
   "cell_type": "code",
   "execution_count": null,
   "metadata": {},
   "outputs": [],
   "source": [
    "def area(length, width):\n",
    "    area = length * width\n",
    "    return area\n",
    "\n",
    "\n",
    "\n",
    "length = float(input('Length of the room in ft:'))\n",
    "width = float(input('Length of the room in ft:'))\n",
    "\n",
    "\n",
    "area = area(length, width)\n",
    "print('The area of the room is', area, 'square feet.')"
   ]
  },
  {
   "cell_type": "code",
   "execution_count": null,
   "metadata": {},
   "outputs": [],
   "source": [
    "area(length,width)"
   ]
  },
  {
   "cell_type": "code",
   "execution_count": null,
   "metadata": {},
   "outputs": [],
   "source": [
    "area(333,444)"
   ]
  },
  {
   "cell_type": "code",
   "execution_count": null,
   "metadata": {},
   "outputs": [],
   "source": []
  },
  {
   "cell_type": "code",
   "execution_count": 4,
   "metadata": {},
   "outputs": [
    {
     "name": "stdout",
     "output_type": "stream",
     "text": [
      "This software will create a sorted list of integers.\n",
      "Please enter your positive integers one at a time.\n",
      "Enter a value of 0 to exit program and display the list.\n",
      "1\n",
      "2\n",
      "3\n",
      "4\n",
      "5\n"
     ]
    }
   ],
   "source": [
    "## Execise 104: Sorted order \n",
    "\n",
    "print('This software will create a sorted list of integers.')\n",
    "print('Please enter your positive integers one at a time.')\n",
    "print('Enter a value of 0 to exit program and display the list.')\n",
    "\n",
    "myList = []\n",
    "i = 1\n",
    "\n",
    "while i > 0: \n",
    "    i = int(input('Input an integer or 0 to quit:'))\n",
    "    myList.append(i)\n",
    "    \n",
    "\n",
    "# myList = sorted(myList)\n",
    "myList.sort()    \n",
    "myList.remove(0)\n",
    "for num in myList:\n",
    "    print(myList[num-1])"
   ]
  },
  {
   "cell_type": "code",
   "execution_count": null,
   "metadata": {},
   "outputs": [],
   "source": []
  },
  {
   "cell_type": "code",
   "execution_count": null,
   "metadata": {},
   "outputs": [],
   "source": []
  }
 ],
 "metadata": {
  "kernelspec": {
   "display_name": "Python 3",
   "language": "python",
   "name": "python3"
  },
  "language_info": {
   "codemirror_mode": {
    "name": "ipython",
    "version": 3
   },
   "file_extension": ".py",
   "mimetype": "text/x-python",
   "name": "python",
   "nbconvert_exporter": "python",
   "pygments_lexer": "ipython3",
   "version": "3.6.3"
  }
 },
 "nbformat": 4,
 "nbformat_minor": 2
}
