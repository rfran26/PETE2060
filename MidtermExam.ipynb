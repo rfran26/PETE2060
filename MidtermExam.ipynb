{
 "cells": [
  {
   "cell_type": "code",
   "execution_count": 1,
   "metadata": {},
   "outputs": [],
   "source": [
    "import numpy as np\n",
    "import pandas as pd\n",
    "import seaborn as sn\n",
    "import scipy.stats as ss\n",
    "import matplotlib.pyplot as plt\n"
   ]
  },
  {
   "cell_type": "code",
   "execution_count": 4,
   "metadata": {},
   "outputs": [],
   "source": [
    "df = pd.read_csv('MOCK_DATA.csv')\n",
    "data = df.Production18 #replace X with your designated number on the exam sheet"
   ]
  },
  {
   "cell_type": "code",
   "execution_count": 5,
   "metadata": {},
   "outputs": [
    {
     "data": {
      "text/plain": [
       "0      536\n",
       "1      477\n",
       "2      416\n",
       "3      565\n",
       "4      502\n",
       "5      453\n",
       "6      471\n",
       "7      513\n",
       "8      520\n",
       "9      490\n",
       "10     551\n",
       "11     490\n",
       "12     524\n",
       "13     476\n",
       "14     507\n",
       "15     593\n",
       "16     520\n",
       "17     565\n",
       "18     570\n",
       "19     522\n",
       "20     526\n",
       "21     508\n",
       "22     511\n",
       "23     533\n",
       "24     526\n",
       "25     507\n",
       "26     513\n",
       "27     547\n",
       "28     505\n",
       "29     486\n",
       "      ... \n",
       "970    506\n",
       "971    489\n",
       "972    552\n",
       "973    534\n",
       "974    506\n",
       "975    509\n",
       "976    505\n",
       "977    573\n",
       "978    510\n",
       "979    526\n",
       "980    521\n",
       "981    546\n",
       "982    482\n",
       "983    524\n",
       "984    534\n",
       "985    524\n",
       "986    514\n",
       "987    542\n",
       "988    551\n",
       "989    528\n",
       "990    560\n",
       "991    545\n",
       "992    538\n",
       "993    534\n",
       "994    472\n",
       "995    554\n",
       "996    565\n",
       "997    552\n",
       "998    567\n",
       "999    500\n",
       "Name: Production18, Length: 1000, dtype: int64"
      ]
     },
     "execution_count": 5,
     "metadata": {},
     "output_type": "execute_result"
    }
   ],
   "source": [
    "data"
   ]
  },
  {
   "cell_type": "code",
   "execution_count": 6,
   "metadata": {},
   "outputs": [],
   "source": [
    "X = np.array(data)"
   ]
  },
  {
   "cell_type": "code",
   "execution_count": 7,
   "metadata": {},
   "outputs": [
    {
     "name": "stdout",
     "output_type": "stream",
     "text": [
      "The Average is: 517.632\n"
     ]
    }
   ],
   "source": [
    "X_ave = np.average(X)\n",
    "print('The Average is:', X_ave)"
   ]
  },
  {
   "cell_type": "code",
   "execution_count": 8,
   "metadata": {},
   "outputs": [
    {
     "name": "stdout",
     "output_type": "stream",
     "text": [
      "The Variance of the Sample is: 903.367943944\n"
     ]
    }
   ],
   "source": [
    "s_2 = np.var(X, ddof = 1)\n",
    "print('The Variance of the Sample is:' ,s_2)"
   ]
  },
  {
   "cell_type": "code",
   "execution_count": 9,
   "metadata": {},
   "outputs": [
    {
     "name": "stdout",
     "output_type": "stream",
     "text": [
      "The Standard Deviation of the sample is: 30.056079983\n"
     ]
    }
   ],
   "source": [
    "s = np.std(X, ddof = 1)\n",
    "print('The Standard Deviation of the sample is:', s)"
   ]
  },
  {
   "cell_type": "code",
   "execution_count": 10,
   "metadata": {},
   "outputs": [
    {
     "name": "stdout",
     "output_type": "stream",
     "text": [
      "The median of the sample is: 518.0\n"
     ]
    }
   ],
   "source": [
    "median = np.median(X)\n",
    "print('The median of the sample is:', median)"
   ]
  },
  {
   "cell_type": "code",
   "execution_count": 11,
   "metadata": {},
   "outputs": [
    {
     "data": {
      "image/png": "[encoded data removed]",
      "text/plain": [
       "<matplotlib.figure.Figure at 0x224aaf909e8>"
      ]
     },
     "metadata": {},
     "output_type": "display_data"
    }
   ],
   "source": [
    "plt.boxplot(X)\n",
    "plt.annotate('      Largest value within 1.5*IQR',[1,np.max(X)])\n",
    "plt.annotate('         Third Quartile',[1,np.percentile(X, 75)])\n",
    "plt.annotate('         First Quartile',[1,np.percentile(X, 25)])\n",
    "plt.annotate('         Median',[1,np.median(X)])\n",
    "plt.annotate('      Smallest value within 1.5*IQR',[1,np.min(X)])\n",
    "plt.show()"
   ]
  },
  {
   "cell_type": "code",
   "execution_count": 12,
   "metadata": {},
   "outputs": [],
   "source": [
    "X_outliers = np.append(X,50)"
   ]
  },
  {
   "cell_type": "code",
   "execution_count": 13,
   "metadata": {},
   "outputs": [
    {
     "data": {
      "image/png": "[encoded data removed]",
      "text/plain": [
       "<matplotlib.figure.Figure at 0x224aaf90390>"
      ]
     },
     "metadata": {},
     "output_type": "display_data"
    }
   ],
   "source": [
    "plt.boxplot(X_outliers)\n",
    "plt.annotate('  Outlier',[1,np.max(X_outliers)])\n",
    "plt.annotate('          Notice shift in median',[1,np.median(X_outliers)])\n",
    "plt.show()"
   ]
  },
  {
   "cell_type": "code",
   "execution_count": 14,
   "metadata": {},
   "outputs": [],
   "source": [
    "## Probability"
   ]
  },
  {
   "cell_type": "code",
   "execution_count": 17,
   "metadata": {},
   "outputs": [
    {
     "name": "stdout",
     "output_type": "stream",
     "text": [
      "There are 504.0 different ways that 9 wells can be split into 3 top producing wells.\n"
     ]
    }
   ],
   "source": [
    "n = 9\n",
    "k = 3\n",
    "perms = np.math.factorial(n)\n",
    "perms = np.math.factorial(n)/np.math.factorial(n-k)\n",
    "print('There are', perms, 'different ways that', n, 'wells can be split into', k, 'top producing wells.')"
   ]
  },
  {
   "cell_type": "code",
   "execution_count": 19,
   "metadata": {},
   "outputs": [
    {
     "name": "stdout",
     "output_type": "stream",
     "text": [
      "There are 84.0 combinations of 3 wells chosen from 9 wells.\n"
     ]
    }
   ],
   "source": [
    "combs = np.math.factorial(n)/(np.math.factorial(k)*np.math.factorial(n-k))\n",
    "print('There are', combs, 'combinations of', k, 'wells chosen from', n, 'wells.')"
   ]
  },
  {
   "cell_type": "code",
   "execution_count": 33,
   "metadata": {},
   "outputs": [
    {
     "name": "stdout",
     "output_type": "stream",
     "text": [
      "There is a 33.333333333333336 % chance of picking the Worst producing Well out of 9 Wells.\n"
     ]
    }
   ],
   "source": [
    "prob = 100*k/n\n",
    "print('There is a', prob, '% chance of picking the Worst producing Well out of', n, 'Wells.')"
   ]
  },
  {
   "cell_type": "code",
   "execution_count": 34,
   "metadata": {},
   "outputs": [
    {
     "name": "stdout",
     "output_type": "stream",
     "text": [
      "There is a 33.333333333333336 % probability of picking a gas well out of 3 gas wells and 6 oil wells.\n"
     ]
    }
   ],
   "source": [
    "prob = 100*k/n\n",
    "print('There is a', prob, '% probability of picking a gas well out of 3 gas wells and 6 oil wells.')"
   ]
  },
  {
   "cell_type": "code",
   "execution_count": 36,
   "metadata": {},
   "outputs": [],
   "source": [
    "## Confidence Intervals"
   ]
  },
  {
   "cell_type": "code",
   "execution_count": 37,
   "metadata": {},
   "outputs": [
    {
     "data": {
      "text/plain": [
       "(8.228432234251315, 8.3715677657486864)"
      ]
     },
     "execution_count": 37,
     "metadata": {},
     "output_type": "execute_result"
    }
   ],
   "source": [
    "n = 120\n",
    "X = 8.3\n",
    "sd = 0.4\n",
    "ss.norm.interval(.95, loc=X, scale=sd/np.sqrt(n))"
   ]
  },
  {
   "cell_type": "code",
   "execution_count": 38,
   "metadata": {},
   "outputs": [
    {
     "data": {
      "text/plain": [
       "(8.2059440124108978, 8.3940559875891037)"
      ]
     },
     "execution_count": 38,
     "metadata": {},
     "output_type": "execute_result"
    }
   ],
   "source": [
    "ss.norm.interval(.99, loc=X, scale=sd/np.sqrt(n))"
   ]
  },
  {
   "cell_type": "code",
   "execution_count": 41,
   "metadata": {},
   "outputs": [
    {
     "data": {
      "text/plain": [
       "0.99999999999985789"
      ]
     },
     "execution_count": 41,
     "metadata": {},
     "output_type": "execute_result"
    }
   ],
   "source": [
    "ci = 8.57\n",
    "z_sig = ci - X\n",
    "z = z_sig*np.sqrt(n)/sd\n",
    "1-(1-ss.norm.cdf(z))*2"
   ]
  },
  {
   "cell_type": "code",
   "execution_count": 42,
   "metadata": {},
   "outputs": [
    {
     "name": "stdout",
     "output_type": "stream",
     "text": [
      "126.0\n"
     ]
    }
   ],
   "source": [
    "z_sig = 0.07\n",
    "z = ss.norm.ppf(.975) \n",
    "n = (z*sd/z_sig)**2\n",
    "print(np.ceil(n)) "
   ]
  },
  {
   "cell_type": "code",
   "execution_count": 43,
   "metadata": {},
   "outputs": [
    {
     "name": "stdout",
     "output_type": "stream",
     "text": [
      "217.0\n"
     ]
    }
   ],
   "source": [
    "z = ss.norm.ppf(.995) \n",
    "n = (z*sd/z_sig)**2\n",
    "print(np.ceil(n)) \n"
   ]
  },
  {
   "cell_type": "code",
   "execution_count": 44,
   "metadata": {},
   "outputs": [
    {
     "data": {
      "text/plain": [
       "array([ 0.41700602,  0.63061303])"
      ]
     },
     "execution_count": 44,
     "metadata": {},
     "output_type": "execute_result"
    }
   ],
   "source": [
    "n = 80\n",
    "X = 42\n",
    "\n",
    "def binom_CI(n,X,alpha):\n",
    "    n_hat = n+4\n",
    "    p_hat = (X+2) / n_hat\n",
    "    \n",
    "    z = ss.norm.ppf(1-alpha/2)\n",
    "    \n",
    "    ci = z*np.sqrt(p_hat*(1-p_hat)/n_hat)\n",
    "\n",
    "    return np.array([p_hat-ci, p_hat+ci])\n",
    "\n",
    "\n",
    "alpha = 1 - 0.95\n",
    "binom_CI(n,X,alpha)"
   ]
  },
  {
   "cell_type": "code",
   "execution_count": 45,
   "metadata": {},
   "outputs": [
    {
     "data": {
      "text/plain": [
       "array([ 0.4341772 ,  0.61344185])"
      ]
     },
     "execution_count": 45,
     "metadata": {},
     "output_type": "execute_result"
    }
   ],
   "source": [
    "alpha = 1 - 0.9\n",
    "binom_CI(n,X,alpha)"
   ]
  },
  {
   "cell_type": "code",
   "execution_count": 46,
   "metadata": {},
   "outputs": [],
   "source": [
    "## Confidence Intervals/Hypothesis Testing"
   ]
  },
  {
   "cell_type": "code",
   "execution_count": 47,
   "metadata": {},
   "outputs": [
    {
     "data": {
      "image/png": "[encoded data removed]",
      "text/plain": [
       "<matplotlib.figure.Figure at 0x224ab5d7b70>"
      ]
     },
     "metadata": {},
     "output_type": "display_data"
    }
   ],
   "source": [
    "X = np.array([13.1,13.3,12.9,12.8,13.2,13.3])\n",
    "plt.boxplot(X)\n",
    "plt.show()"
   ]
  },
  {
   "cell_type": "code",
   "execution_count": 48,
   "metadata": {},
   "outputs": [
    {
     "data": {
      "text/plain": [
       "(12.879868522974609, 13.32013147702539)"
      ]
     },
     "execution_count": 48,
     "metadata": {},
     "output_type": "execute_result"
    }
   ],
   "source": [
    "n = len(X)\n",
    "mean = np.mean(X)\n",
    "sd = np.std(X)\n",
    "df = n-1\n",
    "alpha = 0.95\n",
    "ss.t.interval(alpha, df, mean, ss.sem(X))"
   ]
  },
  {
   "cell_type": "code",
   "execution_count": null,
   "metadata": {},
   "outputs": [],
   "source": []
  }
 ],
 "metadata": {
  "kernelspec": {
   "display_name": "Python 3",
   "language": "python",
   "name": "python3"
  },
  "language_info": {
   "codemirror_mode": {
    "name": "ipython",
    "version": 3
   },
   "file_extension": ".py",
   "mimetype": "text/x-python",
   "name": "python",
   "nbconvert_exporter": "python",
   "pygments_lexer": "ipython3",
   "version": "3.6.3"
  }
 },
 "nbformat": 4,
 "nbformat_minor": 2
}
